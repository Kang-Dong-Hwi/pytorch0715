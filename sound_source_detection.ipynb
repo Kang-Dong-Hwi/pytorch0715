{
  "nbformat": 4,
  "nbformat_minor": 0,
  "metadata": {
    "colab": {
      "name": "sound source detection.ipynb",
      "provenance": [],
      "collapsed_sections": []
    },
    "kernelspec": {
      "name": "python3",
      "display_name": "Python 3"
    },
    "accelerator": "GPU"
  },
  "cells": [
    {
      "cell_type": "code",
      "metadata": {
        "id": "BOn5xCyhP_c4",
        "colab_type": "code",
        "colab": {
          "base_uri": "https://localhost:8080/",
          "height": 127
        },
        "outputId": "7ad4470b-b76c-400a-b9d4-5af99c394f3b"
      },
      "source": [
        "\n",
        "import torch\n",
        "import os\n",
        "import random\n",
        "from torch.utils.data import Dataset\n",
        "from torch.utils.data import DataLoader, TensorDataset\n",
        "\n",
        "import librosa\n",
        "import librosa.display\n",
        "import numba.decorators\n",
        "import numpy as np\n",
        "import matplotlib.pyplot as plt\n",
        "\n",
        "\n",
        "from google.colab import auth\n",
        "auth.authenticate_user()\n",
        "\n",
        "from google.colab import drive\n",
        "drive.mount('/content/gdrive')\n",
        "\n",
        "#PATH = 'C://Projects//keras_talk//keras//intern//dataset//'\n",
        "PATH = '/content/gdrive/My Drive/dataset/'\n",
        "\n",
        "train_size = 800\n",
        "test_size = 200\n",
        "\n",
        "EPOCHS = 3\n",
        "BATCH_SIZE = 50\n",
        "\n",
        "\n",
        "def Y_DATA(y_data):\n",
        "    for idx in range(y_data.shape[0]):\n",
        "        y = y_data[idx]\n",
        "        if y < 0:  y_data[idx] = 10\n",
        "        else:      y_data[idx] = (y//20)\n",
        "    return y_data"
      ],
      "execution_count": 5,
      "outputs": [
        {
          "output_type": "stream",
          "text": [
            "Go to this URL in a browser: https://accounts.google.com/o/oauth2/auth?client_id=947318989803-6bn6qk8qdgf4n4g3pfee6491hc0brc4i.apps.googleusercontent.com&redirect_uri=urn%3aietf%3awg%3aoauth%3a2.0%3aoob&response_type=code&scope=email%20https%3a%2f%2fwww.googleapis.com%2fauth%2fdocs.test%20https%3a%2f%2fwww.googleapis.com%2fauth%2fdrive%20https%3a%2f%2fwww.googleapis.com%2fauth%2fdrive.photos.readonly%20https%3a%2f%2fwww.googleapis.com%2fauth%2fpeopleapi.readonly\n",
            "\n",
            "Enter your authorization code:\n",
            "··········\n",
            "Mounted at /content/gdrive\n"
          ],
          "name": "stdout"
        }
      ]
    },
    {
      "cell_type": "code",
      "metadata": {
        "id": "Rk41xrd0XNHq",
        "colab_type": "code",
        "colab": {
          "base_uri": "https://localhost:8080/",
          "height": 35
        },
        "outputId": "e32ac2cb-ee77-4916-e140-e1b3c0b34aef"
      },
      "source": [
        "\n",
        "import numpy as np\n",
        "\n",
        "\n",
        "dataset_dict = { 0 : 'S_left',        1 : 'S_left_phase',\n",
        "                 2 : 'S_right',       3 : 'S_right_phase',\n",
        "                 4 : 'clean_left',    5 : 'clean_left_phase',\n",
        "                 6 : 'clean_right',   7 : 'clean_right_phase',\n",
        "                 8 : 'idx_drone_end', 9 : 'idx_voice_end',\n",
        "                10 : 'idx_voice_start'}\n",
        "\n",
        "\n",
        "\n",
        "numpy_dict = dict()\n",
        "for n in range(4):\n",
        "    numpy_name    = dataset_dict[n]\n",
        "    numpy_dict[n] = np.load( PATH + numpy_name + '.npy' )\n",
        "    \n",
        "\n",
        "\n",
        "'''    x_data,       y_data '''\n",
        "'''(1000,4,257,382), (1000,)'''\n",
        "\n",
        "x_data = []\n",
        "for idx in range(1000):\n",
        "    x_element = []\n",
        "\n",
        "    for n in range(4):\n",
        "        x_element.append( numpy_dict[n][:,:,idx] )\n",
        "\n",
        "    x_element = np.asarray( x_element )\n",
        "    x_data.append(x_element)\n",
        "\n",
        "\n",
        "x_data = np.asarray(x_data)\n",
        "y_data = Y_DATA( np.load(PATH + 'angle.npy') )\n",
        "print('done..')"
      ],
      "execution_count": 12,
      "outputs": [
        {
          "output_type": "stream",
          "text": [
            "done..\n"
          ],
          "name": "stdout"
        }
      ]
    },
    {
      "cell_type": "code",
      "metadata": {
        "id": "oH6kABe5XhZT",
        "colab_type": "code",
        "colab": {
          "base_uri": "https://localhost:8080/",
          "height": 244
        },
        "cellView": "code",
        "outputId": "4a4bcf07-a1c7-424e-deb0-c9d753f9fd66"
      },
      "source": [
        "\n",
        "#x_data = x_data.reshape()\n",
        "#y_data = y_data.reshape()\n",
        "\n",
        "\n",
        "x_data = torch.from_numpy( x_data ).float().to('cuda')\n",
        "y_data = torch.from_numpy( y_data ).long().to('cuda')\n",
        "\n",
        "full_dataset = TensorDataset( x_data, y_data )\n",
        "\n",
        "\n",
        "train_dataset, valid_dataset = torch.utils.data.random_split( full_dataset, [train_size, test_size])\n",
        "train_dataset = DataLoader( dataset=train_dataset, batch_size = BATCH_SIZE, shuffle=True, drop_last=True)\n",
        "valid_dataset = DataLoader( dataset=valid_dataset, batch_size = BATCH_SIZE, shuffle=True, drop_last=True)\n"
      ],
      "execution_count": 14,
      "outputs": [
        {
          "output_type": "error",
          "ename": "TypeError",
          "evalue": "ignored",
          "traceback": [
            "\u001b[0;31m---------------------------------------------------------------------------\u001b[0m",
            "\u001b[0;31mTypeError\u001b[0m                                 Traceback (most recent call last)",
            "\u001b[0;32m<ipython-input-14-707010e49fc1>\u001b[0m in \u001b[0;36m<module>\u001b[0;34m()\u001b[0m\n\u001b[1;32m      4\u001b[0m \u001b[0;34m\u001b[0m\u001b[0m\n\u001b[1;32m      5\u001b[0m \u001b[0;34m\u001b[0m\u001b[0m\n\u001b[0;32m----> 6\u001b[0;31m \u001b[0mx_data\u001b[0m \u001b[0;34m=\u001b[0m \u001b[0mtorch\u001b[0m\u001b[0;34m.\u001b[0m\u001b[0mfrom_numpy\u001b[0m\u001b[0;34m(\u001b[0m \u001b[0mx_data\u001b[0m \u001b[0;34m)\u001b[0m\u001b[0;34m.\u001b[0m\u001b[0mfloat\u001b[0m\u001b[0;34m(\u001b[0m\u001b[0;34m)\u001b[0m\u001b[0;34m.\u001b[0m\u001b[0mto\u001b[0m\u001b[0;34m(\u001b[0m\u001b[0;34m'cuda'\u001b[0m\u001b[0;34m)\u001b[0m\u001b[0;34m\u001b[0m\u001b[0;34m\u001b[0m\u001b[0m\n\u001b[0m\u001b[1;32m      7\u001b[0m \u001b[0my_data\u001b[0m \u001b[0;34m=\u001b[0m \u001b[0mtorch\u001b[0m\u001b[0;34m.\u001b[0m\u001b[0mfrom_numpy\u001b[0m\u001b[0;34m(\u001b[0m \u001b[0my_data\u001b[0m \u001b[0;34m)\u001b[0m\u001b[0;34m.\u001b[0m\u001b[0mlong\u001b[0m\u001b[0;34m(\u001b[0m\u001b[0;34m)\u001b[0m\u001b[0;34m.\u001b[0m\u001b[0mto\u001b[0m\u001b[0;34m(\u001b[0m\u001b[0;34m'cuda'\u001b[0m\u001b[0;34m)\u001b[0m\u001b[0;34m\u001b[0m\u001b[0;34m\u001b[0m\u001b[0m\n\u001b[1;32m      8\u001b[0m \u001b[0;34m\u001b[0m\u001b[0m\n",
            "\u001b[0;31mTypeError\u001b[0m: expected np.ndarray (got Tensor)"
          ]
        }
      ]
    },
    {
      "cell_type": "code",
      "metadata": {
        "id": "BZGcTf0xiHYY",
        "colab_type": "code",
        "colab": {}
      },
      "source": [
        "import torch.nn as nn\n",
        "import torch.nn.functional as F\n",
        "\n",
        "\n",
        "class CNN (nn.Module):\n",
        "    def __init__(self):\n",
        "        super(CNN, self).__init__()\n",
        "        # 4 * 257 * 382\n",
        "        self.conv1 = nn.Conv2d( in_channels= 4, out_channels= 64, kernel_size = (10,11) )\n",
        "        # 64 * 124 * 186\n",
        "        self.conv2 = nn.Conv2d( in_channels=64, out_channels=128, kernel_size = (11,11) )\n",
        "        # 128 * 57 * 88\n",
        "        self.lay1  = nn.Linear( 128*57*88, 256 )\n",
        "        self.lay2  = nn.Linear( 256, 256 )\n",
        "        self.lay3  = nn.Linear( 256, 64 )\n",
        "        self.lay4  = nn.Linear( 64 , 11 )\n",
        "        \n",
        "        \n",
        "        \n",
        "    def forward(self, output):\n",
        "        output = F.max_pool2d( F.relu( self.conv1(output) ),2 )\n",
        "        output = F.max_pool2d( F.relu( self.conv2(output) ),2 )\n",
        "        output = output.view(-1, 128*57*88)\n",
        "        output = F.relu( self.lay1(output) )\n",
        "        output = F.dropout(output, training=self.training)\n",
        "        output = F.relu( self.lay2(output) )\n",
        "        output = F.dropout(output, training=self.training)\n",
        "        output = F.relu( self.lay3(output) )\n",
        "        output = F.dropout(output, training=self.training)\n",
        "        output = F.log_softmax(self.lay4(output), dim=1)\n",
        "        \n",
        "        return output\n",
        "    "
      ],
      "execution_count": 15,
      "outputs": []
    },
    {
      "cell_type": "markdown",
      "metadata": {
        "id": "PjH37Dc-iHv7",
        "colab_type": "text"
      },
      "source": [
        ""
      ]
    },
    {
      "cell_type": "code",
      "metadata": {
        "id": "lFZK2luUiIWg",
        "colab_type": "code",
        "colab": {
          "base_uri": "https://localhost:8080/",
          "height": 935
        },
        "outputId": "d22fb78c-7115-43f8-e648-037362adfb3d"
      },
      "source": [
        "torch.manual_seed(1)\n",
        "\n",
        "model = CNN().to('cuda')\n",
        "criterion = nn.CrossEntropyLoss().to('cuda')\n",
        "optimizer = torch.optim.Adam(model.parameters(), lr=0.00001)\n",
        "\n",
        "train_loss = []\n",
        "train_acc  = []\n",
        "\n",
        "\n",
        "model.train()\n",
        "for epoch in range(EPOCHS):\n",
        "    print('epoch' + str(epoch+1))\n",
        "    \n",
        "    for i, (data, label) in enumerate(train_dataset):\n",
        "        (data, label) = (data.to('cuda'), label.to('cuda'))\n",
        "\n",
        "        optimizer.zero_grad()\n",
        "        output = model(data)\n",
        "  \n",
        "        loss = F.nll_loss(output, label.reshape(BATCH_SIZE))\n",
        "        loss.backward()\n",
        "        optimizer.step()\n",
        "        \n",
        "        preds = output.data.max(1)[1]\n",
        "        corr  = (preds==label.reshape(BATCH_SIZE)).sum().item()\n",
        "        acc   = corr/BATCH_SIZE*100\n",
        "        \n",
        "        train_loss.append(loss.item())\n",
        "        train_acc.append( acc )\n",
        "        \n",
        "        print('\\tLoss: {:.3f}\\tAcc: {:.3f}'.format(loss.item(), acc))\n",
        "        "
      ],
      "execution_count": 16,
      "outputs": [
        {
          "output_type": "stream",
          "text": [
            "epoch1\n",
            "\tLoss: 2.420\tAcc: 2.000\n",
            "\tLoss: 2.398\tAcc: 8.000\n",
            "\tLoss: 2.410\tAcc: 4.000\n",
            "\tLoss: 2.430\tAcc: 16.000\n",
            "\tLoss: 2.451\tAcc: 12.000\n",
            "\tLoss: 2.360\tAcc: 20.000\n",
            "\tLoss: 2.462\tAcc: 8.000\n",
            "\tLoss: 2.411\tAcc: 10.000\n",
            "\tLoss: 2.455\tAcc: 8.000\n",
            "\tLoss: 2.390\tAcc: 10.000\n",
            "\tLoss: 2.429\tAcc: 4.000\n",
            "\tLoss: 2.484\tAcc: 6.000\n",
            "\tLoss: 2.429\tAcc: 6.000\n",
            "\tLoss: 2.432\tAcc: 18.000\n",
            "\tLoss: 2.411\tAcc: 6.000\n",
            "\tLoss: 2.433\tAcc: 10.000\n",
            "epoch2\n",
            "\tLoss: 2.383\tAcc: 14.000\n",
            "\tLoss: 2.401\tAcc: 4.000\n",
            "\tLoss: 2.399\tAcc: 12.000\n",
            "\tLoss: 2.399\tAcc: 10.000\n",
            "\tLoss: 2.384\tAcc: 8.000\n",
            "\tLoss: 2.407\tAcc: 12.000\n",
            "\tLoss: 2.403\tAcc: 12.000\n",
            "\tLoss: 2.390\tAcc: 12.000\n",
            "\tLoss: 2.397\tAcc: 6.000\n",
            "\tLoss: 2.399\tAcc: 12.000\n",
            "\tLoss: 2.415\tAcc: 6.000\n",
            "\tLoss: 2.407\tAcc: 12.000\n",
            "\tLoss: 2.397\tAcc: 16.000\n",
            "\tLoss: 2.403\tAcc: 6.000\n",
            "\tLoss: 2.401\tAcc: 18.000\n",
            "\tLoss: 2.390\tAcc: 16.000\n",
            "epoch3\n",
            "\tLoss: 2.406\tAcc: 6.000\n",
            "\tLoss: 2.413\tAcc: 10.000\n",
            "\tLoss: 2.407\tAcc: 10.000\n",
            "\tLoss: 2.399\tAcc: 6.000\n",
            "\tLoss: 2.401\tAcc: 10.000\n",
            "\tLoss: 2.396\tAcc: 10.000\n",
            "\tLoss: 2.393\tAcc: 14.000\n",
            "\tLoss: 2.416\tAcc: 2.000\n",
            "\tLoss: 2.385\tAcc: 12.000\n",
            "\tLoss: 2.395\tAcc: 10.000\n",
            "\tLoss: 2.401\tAcc: 6.000\n",
            "\tLoss: 2.395\tAcc: 12.000\n",
            "\tLoss: 2.392\tAcc: 14.000\n",
            "\tLoss: 2.399\tAcc: 6.000\n",
            "\tLoss: 2.394\tAcc: 16.000\n",
            "\tLoss: 2.401\tAcc: 4.000\n"
          ],
          "name": "stdout"
        }
      ]
    },
    {
      "cell_type": "code",
      "metadata": {
        "id": "3Pf5pzHNjAAV",
        "colab_type": "code",
        "colab": {}
      },
      "source": [
        ""
      ],
      "execution_count": null,
      "outputs": []
    }
  ]
}